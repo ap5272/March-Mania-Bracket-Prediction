{
 "cells": [
  {
   "cell_type": "markdown",
   "metadata": {},
   "source": [
    "## Intro"
   ]
  },
  {
   "cell_type": "code",
   "execution_count": null,
   "metadata": {
    "_cell_guid": "b1076dfc-b9ad-4769-8c92-a6c4dae69d19",
    "_uuid": "8f2839f25d086af736a60e9eeb907d3b93b6e0e5",
    "execution": {
     "iopub.execute_input": "2022-03-16T20:08:58.682054Z",
     "iopub.status.busy": "2022-03-16T20:08:58.681459Z",
     "iopub.status.idle": "2022-03-16T20:09:08.788361Z",
     "shell.execute_reply": "2022-03-16T20:09:08.787357Z",
     "shell.execute_reply.started": "2022-03-16T20:08:58.681954Z"
    }
   },
   "outputs": [],
   "source": [
    "import numpy as np\n",
    "import pandas as pd\n",
    "import os\n",
    "import xgboost as xgb\n",
    "from sklearn.model_selection import KFold\n",
    "from sklearn.metrics import log_loss\n",
    "from scipy.interpolate import UnivariateSpline\n",
    "import statsmodels.api as sm\n",
    "import matplotlib.pyplot as plt\n",
    "import collections\n",
    "import eli5\n",
    "from eli5.sklearn import PermutationImportance\n",
    "\n",
    "pd.set_option(\"display.max_column\", 999)\n",
    "print(os.listdir(\"../input\"))"
   ]
  },
  {
   "cell_type": "markdown",
   "metadata": {
    "_uuid": "20a1490f4d5e0c7916ed661855497604980d2925"
   },
   "source": [
    "# Data preparation. \n",
    "\n",
    "A lot of this has to do with duplicating the data. Each game is seen once from the winner's and once from the loser's perspective. Watch the video to understand better what this is about."
   ]
  },
  {
   "cell_type": "markdown",
   "metadata": {},
   "source": [
    "# Overfitting?"
   ]
  },
  {
   "cell_type": "code",
   "execution_count": null,
   "metadata": {
    "execution": {
     "iopub.execute_input": "2022-03-16T20:09:08.790264Z",
     "iopub.status.busy": "2022-03-16T20:09:08.79004Z",
     "iopub.status.idle": "2022-03-16T20:09:09.364502Z",
     "shell.execute_reply": "2022-03-16T20:09:09.36361Z",
     "shell.execute_reply.started": "2022-03-16T20:09:08.790237Z"
    }
   },
   "outputs": [],
   "source": [
    "tourney_results = pd.read_csv('../input/mens-march-mania-2022/MDataFiles_Stage2/MNCAATourneyDetailedResults.csv')\n",
    "seeds = pd.read_csv('../input/mens-march-mania-2022/MDataFiles_Stage2/MNCAATourneySeeds.csv')\n",
    "regular_results = pd.read_csv('../input/mens-march-mania-2022/MDataFiles_Stage2/MRegularSeasonDetailedResults.csv')\n",
    "\n",
    "regular_results['WEFFG'] = regular_results['WFGM'] / regular_results['WFGA']\n",
    "regular_results['WEFFG3'] = regular_results['WFGM3'] / regular_results['WFGA3']\n",
    "regular_results['WDARE'] = regular_results['WFGM3'] / regular_results['WFGM']\n",
    "regular_results['WTOQUETOQUE'] = regular_results['WAst'] / regular_results['WFGM']\n",
    "\n",
    "regular_results['LEFFG'] = regular_results['LFGM'] / regular_results['LFGA']\n",
    "regular_results['LEFFG3'] = regular_results['LFGM3'] / regular_results['LFGA3']\n",
    "regular_results['LDARE'] = regular_results['LFGM3'] / regular_results['LFGM']\n",
    "regular_results['LTOQUETOQUE'] = regular_results['LAst'] / regular_results['LFGM']\n",
    "regular_results.head()"
   ]
  },
  {
   "cell_type": "code",
   "execution_count": null,
   "metadata": {
    "_uuid": "512dcd34de61fd5e61cd08eccc1c9560362f4178",
    "execution": {
     "iopub.execute_input": "2022-03-16T20:09:09.366095Z",
     "iopub.status.busy": "2022-03-16T20:09:09.365866Z",
     "iopub.status.idle": "2022-03-16T20:09:09.377679Z",
     "shell.execute_reply": "2022-03-16T20:09:09.37653Z",
     "shell.execute_reply.started": "2022-03-16T20:09:09.366068Z"
    }
   },
   "outputs": [],
   "source": [
    "def prepare_data(df):\n",
    "    dfswap = df[['Season', 'DayNum', 'LTeamID', 'LScore', 'WTeamID', 'WScore', 'WLoc', 'NumOT', \n",
    "    'LFGM', 'LFGA', 'LFGM3', 'LFGA3', 'LFTM', 'LFTA', 'LOR', 'LDR', 'LAst', 'LTO', 'LStl', 'LBlk', 'LPF', \n",
    "    'WFGM', 'WFGA', 'WFGM3', 'WFGA3', 'WFTM', 'WFTA', 'WOR', 'WDR', 'WAst', 'WTO', 'WStl', 'WBlk', 'WPF']]\n",
    "\n",
    "    dfswap.loc[df['WLoc'] == 'H', 'WLoc'] = 'A'\n",
    "    dfswap.loc[df['WLoc'] == 'A', 'WLoc'] = 'H'\n",
    "    df.columns.values[6] = 'location'\n",
    "    dfswap.columns.values[6] = 'location'    \n",
    "      \n",
    "    df.columns = [x.replace('W','T1_').replace('L','T2_') for x in list(df.columns)]\n",
    "    dfswap.columns = [x.replace('L','T1_').replace('W','T2_') for x in list(dfswap.columns)]\n",
    "\n",
    "    output = pd.concat([df, dfswap]).reset_index(drop=True)\n",
    "    output.loc[output.location=='N','location'] = '0'\n",
    "    output.loc[output.location=='H','location'] = '1'\n",
    "    output.loc[output.location=='A','location'] = '-1'\n",
    "    output.location = output.location.astype(int)\n",
    "    \n",
    "    output['PointDiff'] = output['T1_Score'] - output['T2_Score']\n",
    "    \n",
    "    return output"
   ]
  },
  {
   "cell_type": "code",
   "execution_count": null,
   "metadata": {
    "_uuid": "6a7bf779e16fe27aa89633ff78f89d452794aa84",
    "execution": {
     "iopub.execute_input": "2022-03-16T20:09:09.380095Z",
     "iopub.status.busy": "2022-03-16T20:09:09.37979Z",
     "iopub.status.idle": "2022-03-16T20:09:09.775095Z",
     "shell.execute_reply": "2022-03-16T20:09:09.774197Z",
     "shell.execute_reply.started": "2022-03-16T20:09:09.380053Z"
    }
   },
   "outputs": [],
   "source": [
    "regular_data = prepare_data(regular_results)\n",
    "tourney_data = prepare_data(tourney_results)"
   ]
  },
  {
   "cell_type": "markdown",
   "metadata": {},
   "source": [
    "# Create Player features for teams"
   ]
  },
  {
   "cell_type": "code",
   "execution_count": null,
   "metadata": {},
   "outputs": [],
   "source": []
  },
  {
   "cell_type": "markdown",
   "metadata": {
    "_uuid": "6dbbc08907e17be459f936ed59e6f50a6dade35c"
   },
   "source": [
    "# Feature engineering!"
   ]
  },
  {
   "cell_type": "markdown",
   "metadata": {},
   "source": [
    "# Add Page Ranks, Ken Pom, 538 ratings, and Player data"
   ]
  },
  {
   "cell_type": "code",
   "execution_count": null,
   "metadata": {
    "execution": {
     "iopub.execute_input": "2022-03-16T20:09:09.776837Z",
     "iopub.status.busy": "2022-03-16T20:09:09.776523Z",
     "iopub.status.idle": "2022-03-16T20:09:09.783786Z",
     "shell.execute_reply": "2022-03-16T20:09:09.783132Z",
     "shell.execute_reply.started": "2022-03-16T20:09:09.776798Z"
    }
   },
   "outputs": [],
   "source": [
    "regular_data.columns"
   ]
  },
  {
   "cell_type": "markdown",
   "metadata": {},
   "source": [
    "Choose the features that you want. Either because you know basketball or use some feature engineering!"
   ]
  },
  {
   "cell_type": "code",
   "execution_count": null,
   "metadata": {
    "_uuid": "ca9f902b70fce0de0db21be2e9f047b233e4d65c",
    "execution": {
     "iopub.execute_input": "2022-03-16T20:09:09.785625Z",
     "iopub.status.busy": "2022-03-16T20:09:09.785236Z",
     "iopub.status.idle": "2022-03-16T20:09:09.800013Z",
     "shell.execute_reply": "2022-03-16T20:09:09.799099Z",
     "shell.execute_reply.started": "2022-03-16T20:09:09.785582Z"
    }
   },
   "outputs": [],
   "source": [
    "boxscore_cols = ['T1_Score', 'T2_Score', \n",
    "        'T1_FGM', 'T1_FGA', 'T1_FGM3', 'T1_FGA3', 'T1_FTM', 'T1_FTA', 'T1_OR', 'T1_DR', 'T1_Ast', 'T1_TO', 'T1_Stl', 'T1_Blk', 'T1_PF', \n",
    "        'T2_FGM', 'T2_FGA', 'T2_FGM3', 'T2_FGA3', 'T2_FTM', 'T2_FTA', 'T2_OR', 'T2_DR', 'T2_Ast', 'T2_TO', 'T2_Stl', 'T2_Blk', 'T2_PF', \n",
    "        'PointDiff']\n",
    "\n",
    "boxscore_cols = [\n",
    "        'T1_FGM', 'T1_FGA', 'T1_OR', 'T1_Ast', 'T1_TO', 'T1_Stl', 'T1_PF', 'T1_FTM', 'T2_FTM', 'T2_FGM', 'T2_FGA', \n",
    "        'T2_OR', 'T2_Ast', 'T2_TO', 'T2_Stl', 'T2_Blk', 'T1_Score', 'T2_Score', 'PointDiff',\n",
    "        'T1_EFFG', 'T1_EFFG3', 'T1_DARE', 'T1_TOQUETOQUE', 'T2_EFFG', 'T2_EFFG3', 'T2_DARE', 'T2_TOQUETOQUE']\n",
    "\n",
    "boxscore_cols = ['T1_Score', 'T2_Score', \n",
    "        'T1_FGM', 'T1_FGA', 'T1_FGM3', 'T1_FGA3', 'T1_FTM', 'T1_FTA', 'T1_OR', 'T1_DR', 'T1_Ast', 'T1_TO', 'T1_Stl', 'T1_Blk', 'T1_PF', \n",
    "        'T2_FGM', 'T2_FGA', 'T2_FGM3', 'T2_FGA3', 'T2_FTM', 'T2_FTA', 'T2_OR', 'T2_DR', 'T2_Ast', 'T2_TO', 'T2_Stl', 'T2_Blk', 'T2_PF', \n",
    "        'T1_EFFG', 'T1_EFFG3', 'T1_DARE', 'T1_TOQUETOQUE', 'T2_EFFG', 'T2_EFFG3', 'T2_DARE', 'T2_TOQUETOQUE']\n",
    "\n",
    "# After my analysis\n",
    "#boxscore_cols = ['PointDiff', 'T1_Blk', 'T2_Blk', 'T1_Ast', 'T2_Ast', 'T1_Stl', 'T2_Stl', 'T1_FGA', \n",
    "#                 'T2_FGA', 'T1_FGM', 'T2_FGM', 'T1_DR', 'T2_DR', 'T1_Score', 'T2_Score']\n",
    "\n",
    "\n",
    "# Choose a function to aggregate\n",
    "funcs = [np.mean] #maybe different weighting using linear network"
   ]
  },
  {
   "cell_type": "markdown",
   "metadata": {},
   "source": [
    "The idea is to be able to take a picture of the teams right before the tournament"
   ]
  },
  {
   "cell_type": "code",
   "execution_count": null,
   "metadata": {
    "_uuid": "bac629b77123932c43842a10dbbe1ac6e6d5871b",
    "execution": {
     "iopub.execute_input": "2022-03-16T20:09:09.802088Z",
     "iopub.status.busy": "2022-03-16T20:09:09.801458Z",
     "iopub.status.idle": "2022-03-16T20:09:10.228953Z",
     "shell.execute_reply": "2022-03-16T20:09:10.228005Z",
     "shell.execute_reply.started": "2022-03-16T20:09:09.801997Z"
    }
   },
   "outputs": [],
   "source": [
    "season_statistics = regular_data.groupby([\"Season\", 'T1_TeamID'])[boxscore_cols].agg(funcs).reset_index()\n",
    "season_statistics.columns = [''.join(col).strip() for col in season_statistics.columns.values]\n",
    "#Make two copies of the data\n",
    "season_statistics_T1 = season_statistics.copy()\n",
    "season_statistics_T2 = season_statistics.copy()\n",
    "\n",
    "season_statistics_T1.columns = [\"T1_\" + x.replace(\"T1_\",\"\").replace(\"T2_\",\"opponent_\") for x in list(season_statistics_T1.columns)]\n",
    "season_statistics_T2.columns = [\"T2_\" + x.replace(\"T1_\",\"\").replace(\"T2_\",\"opponent_\") for x in list(season_statistics_T2.columns)]\n",
    "season_statistics_T1.columns.values[0] = \"Season\"\n",
    "season_statistics_T2.columns.values[0] = \"Season\""
   ]
  },
  {
   "cell_type": "markdown",
   "metadata": {},
   "source": [
    "We don't have the box score statistics in the prediction bank. So drop it."
   ]
  },
  {
   "cell_type": "markdown",
   "metadata": {},
   "source": [
    "# add in player data?"
   ]
  },
  {
   "cell_type": "code",
   "execution_count": null,
   "metadata": {
    "_uuid": "632f6a9c61b60ed1ea391aa784589356a228c429",
    "execution": {
     "iopub.execute_input": "2022-03-16T20:09:10.230917Z",
     "iopub.status.busy": "2022-03-16T20:09:10.230164Z",
     "iopub.status.idle": "2022-03-16T20:09:10.243344Z",
     "shell.execute_reply": "2022-03-16T20:09:10.24261Z",
     "shell.execute_reply.started": "2022-03-16T20:09:10.230859Z"
    }
   },
   "outputs": [],
   "source": [
    "#Targets\n",
    "tourney_data = tourney_data[['Season', 'DayNum', 'T1_TeamID', 'T1_Score', 'T2_TeamID' ,'T2_Score']]\n",
    "tourney_data.head()"
   ]
  },
  {
   "cell_type": "code",
   "execution_count": null,
   "metadata": {
    "_uuid": "b695d847f457c01b16ca4649d5219fb326ee180e",
    "execution": {
     "iopub.execute_input": "2022-03-16T20:09:10.24499Z",
     "iopub.status.busy": "2022-03-16T20:09:10.244449Z",
     "iopub.status.idle": "2022-03-16T20:09:10.328258Z",
     "shell.execute_reply": "2022-03-16T20:09:10.327479Z",
     "shell.execute_reply.started": "2022-03-16T20:09:10.244954Z"
    }
   },
   "outputs": [],
   "source": [
    "tourney_data = pd.merge(tourney_data, season_statistics_T1, on = ['Season', 'T1_TeamID'], how = 'left')\n",
    "tourney_data = pd.merge(tourney_data, season_statistics_T2, on = ['Season', 'T2_TeamID'], how = 'left')\n",
    "# Notice that there are Team 1 statistics, team 1 opponent's statistics, team 2 statistics and team 2 opponent statistics\n",
    "tourney_data.head()"
   ]
  },
  {
   "cell_type": "code",
   "execution_count": null,
   "metadata": {
    "execution": {
     "iopub.execute_input": "2022-03-16T20:09:10.331906Z",
     "iopub.status.busy": "2022-03-16T20:09:10.331615Z",
     "iopub.status.idle": "2022-03-16T20:09:10.336112Z",
     "shell.execute_reply": "2022-03-16T20:09:10.335225Z",
     "shell.execute_reply.started": "2022-03-16T20:09:10.331875Z"
    }
   },
   "outputs": [],
   "source": [
    "# Cut the opponent columns that I don't want\n",
    "#opplist = [opp for opp in tourney_data.columns if '_opponent_' in opp]\n",
    "#todelete = [opp for opp in opplist if 'Blk' not in opp]\n",
    "#tourney_data.drop(todelete, axis = 1, inplace = True)\n",
    "#tourney_data.head()"
   ]
  },
  {
   "cell_type": "markdown",
   "metadata": {},
   "source": [
    "Raddar likes to modify some stuff in the last two weeks before the tournament. I would rather not touch this, but I leave it commented out if you believe in Raddar and want to replicate. Also, a lot of people will copy-paste these notebooks and submit, so if you actually read this. You might as well change some stuff and score something different from the crowd. Your choice!"
   ]
  },
  {
   "cell_type": "markdown",
   "metadata": {},
   "source": [
    "# Last min changes"
   ]
  },
  {
   "cell_type": "code",
   "execution_count": null,
   "metadata": {
    "_uuid": "bbe5b07505a16c7fa38e486c11089dd68122ae56",
    "execution": {
     "iopub.execute_input": "2022-03-16T20:09:10.337685Z",
     "iopub.status.busy": "2022-03-16T20:09:10.337458Z",
     "iopub.status.idle": "2022-03-16T20:09:10.349096Z",
     "shell.execute_reply": "2022-03-16T20:09:10.348296Z",
     "shell.execute_reply.started": "2022-03-16T20:09:10.337657Z"
    }
   },
   "outputs": [],
   "source": [
    "# These statistics are created because in the last 2 weeks some stuff may happen (injuries just before the tournament and such)\n",
    "#last14days_stats_T1 = regular_data.loc[regular_data.DayNum>118].reset_index(drop=True)\n",
    "#last14days_stats_T1['win'] = np.where(last14days_stats_T1['PointDiff']>0,1,0)\n",
    "#last14days_stats_T1 = last14days_stats_T1.groupby(['Season','T1_TeamID'])['win'].mean().reset_index(name='T1_win_ratio_14d')\n",
    "\n",
    "#last14days_stats_T2 = regular_data.loc[regular_data.DayNum>118].reset_index(drop=True)\n",
    "#last14days_stats_T2['win'] = np.where(last14days_stats_T2['PointDiff']<0,1,0)\n",
    "#last14days_stats_T2 = last14days_stats_T2.groupby(['Season','T2_TeamID'])['win'].mean().reset_index(name='T2_win_ratio_14d')\n",
    "\n",
    "#tourney_data = pd.merge(tourney_data, last14days_stats_T1, on = ['Season', 'T1_TeamID'], how = 'left')\n",
    "#tourney_data = pd.merge(tourney_data, last14days_stats_T2, on = ['Season', 'T2_TeamID'], how = 'left')"
   ]
  },
  {
   "cell_type": "markdown",
   "metadata": {},
   "source": [
    "# Extract the teams that make it to the tournament and see how they do with respect to the others"
   ]
  },
  {
   "cell_type": "code",
   "execution_count": null,
   "metadata": {
    "_uuid": "0119bb397cea0028aeb4247034ef6096e738becf",
    "execution": {
     "iopub.execute_input": "2022-03-16T20:09:10.350879Z",
     "iopub.status.busy": "2022-03-16T20:09:10.350339Z",
     "iopub.status.idle": "2022-03-16T20:09:11.415531Z",
     "shell.execute_reply": "2022-03-16T20:09:11.41442Z",
     "shell.execute_reply.started": "2022-03-16T20:09:10.350838Z"
    }
   },
   "outputs": [],
   "source": [
    "\n",
    "regular_season_effects = regular_data[['Season','T1_TeamID','T2_TeamID','PointDiff']].copy()\n",
    "regular_season_effects['T1_TeamID'] = regular_season_effects['T1_TeamID'].astype(str)\n",
    "regular_season_effects['T2_TeamID'] = regular_season_effects['T2_TeamID'].astype(str)\n",
    "regular_season_effects['win'] = np.where(regular_season_effects['PointDiff']>0,1,0)\n",
    "march_madness = pd.merge(seeds[['Season','TeamID']],seeds[['Season','TeamID']],on='Season')\n",
    "march_madness.columns = ['Season', 'T1_TeamID', 'T2_TeamID']\n",
    "march_madness.T1_TeamID = march_madness.T1_TeamID.astype(str)\n",
    "march_madness.T2_TeamID = march_madness.T2_TeamID.astype(str)\n",
    "regular_season_effects = pd.merge(regular_season_effects, march_madness, on = ['Season','T1_TeamID','T2_TeamID'])\n",
    "regular_season_effects.shape"
   ]
  },
  {
   "cell_type": "markdown",
   "metadata": {},
   "source": [
    "## Team Quality"
   ]
  },
  {
   "cell_type": "markdown",
   "metadata": {},
   "source": [
    "This is the team quality measure. The most important part. Watch the youtube presentation at this timepoint to understand what it is: https://youtu.be/KmhGNc7gcCM?t=2279 it is a measure of team strenght.\n",
    "\n",
    "Warning: I changed it and it's not exactly the same quality measure mentioned in the youtube video. Consider changing this!"
   ]
  },
  {
   "cell_type": "code",
   "execution_count": null,
   "metadata": {
    "_uuid": "4d9b04a51db542edb705c94ed145d90af2ad2f15",
    "execution": {
     "iopub.execute_input": "2022-03-16T20:09:11.417292Z",
     "iopub.status.busy": "2022-03-16T20:09:11.417009Z",
     "iopub.status.idle": "2022-03-16T20:09:11.427908Z",
     "shell.execute_reply": "2022-03-16T20:09:11.426824Z",
     "shell.execute_reply.started": "2022-03-16T20:09:11.417259Z"
    }
   },
   "outputs": [],
   "source": [
    "def normalize_column(values):\n",
    "    themean = np.mean(values)\n",
    "    thestd = np.std(values)\n",
    "    norm = (values - themean)/(thestd) \n",
    "    return(pd.DataFrame(norm))\n",
    "\n",
    "\n",
    "\n",
    "def team_quality(season):\n",
    "    formula = 'win~-1+T1_TeamID+T2_TeamID'\n",
    "    glm = sm.GLM.from_formula(formula=formula, \n",
    "                              data=regular_season_effects.loc[regular_season_effects.Season==season,:], \n",
    "                              family=sm.families.Binomial()).fit()\n",
    "    quality = pd.DataFrame(glm.params).reset_index()\n",
    "    quality.columns = ['TeamID','quality']\n",
    "    quality['Season'] = season\n",
    "    quality['quality'] = normalize_column(quality['quality'])\n",
    "    quality['quality'] = np.exp(quality['quality'])\n",
    "    quality = quality.loc[quality.TeamID.str.contains('T1_')].reset_index(drop=True)\n",
    "    quality['TeamID'] = quality['TeamID'].apply(lambda x: x[10:14]).astype(int)\n",
    "    print(quality['quality'].mean(), quality['quality'].std())\n",
    "    return quality"
   ]
  },
  {
   "cell_type": "markdown",
   "metadata": {},
   "source": [
    "# Apply Page Rank here?"
   ]
  },
  {
   "cell_type": "code",
   "execution_count": null,
   "metadata": {
    "_uuid": "d805268806a47d1af7d4d614809e883819847df9",
    "execution": {
     "iopub.execute_input": "2022-03-16T20:09:11.429925Z",
     "iopub.status.busy": "2022-03-16T20:09:11.429531Z",
     "iopub.status.idle": "2022-03-16T20:09:18.412235Z",
     "shell.execute_reply": "2022-03-16T20:09:18.411398Z",
     "shell.execute_reply.started": "2022-03-16T20:09:11.429889Z"
    }
   },
   "outputs": [],
   "source": [
    "# This is metric to measure the team's strength, in this case, this is a logistic regression and we\n",
    "# the coefficients\n",
    "\n",
    "\n",
    "glm_quality = pd.concat([team_quality(2003),\n",
    "                         team_quality(2004),\n",
    "                         team_quality(2005),\n",
    "                         team_quality(2006),\n",
    "                         team_quality(2007),\n",
    "                         team_quality(2008),\n",
    "                         team_quality(2009),\n",
    "                         team_quality(2010),\n",
    "                         team_quality(2011),\n",
    "                         team_quality(2012),\n",
    "                         team_quality(2013),\n",
    "                         team_quality(2014),\n",
    "                         team_quality(2015),\n",
    "                         team_quality(2016),\n",
    "                         team_quality(2017),\n",
    "                         team_quality(2018),\n",
    "                         team_quality(2019),\n",
    "                         team_quality(2021)]).reset_index(drop=True)"
   ]
  },
  {
   "cell_type": "code",
   "execution_count": null,
   "metadata": {
    "_uuid": "b67f4e36dd77a6d7b781f33572e19c2a90e8f184",
    "execution": {
     "iopub.execute_input": "2022-03-16T20:09:18.414585Z",
     "iopub.status.busy": "2022-03-16T20:09:18.413982Z",
     "iopub.status.idle": "2022-03-16T20:09:18.424573Z",
     "shell.execute_reply": "2022-03-16T20:09:18.422891Z",
     "shell.execute_reply.started": "2022-03-16T20:09:18.41454Z"
    }
   },
   "outputs": [],
   "source": [
    "glm_quality_T1 = glm_quality.copy()\n",
    "glm_quality_T2 = glm_quality.copy()\n",
    "glm_quality_T1.columns = ['T1_TeamID','T1_quality','Season']\n",
    "glm_quality_T2.columns = ['T2_TeamID','T2_quality','Season']"
   ]
  },
  {
   "cell_type": "code",
   "execution_count": null,
   "metadata": {
    "_uuid": "1b667442750b3fd5dd24c41d75e3bb7a0ed28f8a",
    "execution": {
     "iopub.execute_input": "2022-03-16T20:09:18.428591Z",
     "iopub.status.busy": "2022-03-16T20:09:18.427756Z",
     "iopub.status.idle": "2022-03-16T20:09:18.46923Z",
     "shell.execute_reply": "2022-03-16T20:09:18.468165Z",
     "shell.execute_reply.started": "2022-03-16T20:09:18.428542Z"
    }
   },
   "outputs": [],
   "source": [
    "tourney_data = pd.merge(tourney_data, glm_quality_T1, on = ['Season', 'T1_TeamID'], how = 'left')\n",
    "tourney_data = pd.merge(tourney_data, glm_quality_T2, on = ['Season', 'T2_TeamID'], how = 'left')\n",
    "tourney_data['T1_quality'].fillna(0.2, inplace = True)\n",
    "tourney_data['T2_quality'].fillna(0.2, inplace = True)\n",
    "tourney_data.T2_quality.isnull().sum()"
   ]
  },
  {
   "cell_type": "code",
   "execution_count": null,
   "metadata": {
    "_uuid": "f2ce28123dfc563a8b1fb58f98401c927e2eb7c2",
    "execution": {
     "iopub.execute_input": "2022-03-16T20:09:18.473081Z",
     "iopub.status.busy": "2022-03-16T20:09:18.471326Z",
     "iopub.status.idle": "2022-03-16T20:09:18.509348Z",
     "shell.execute_reply": "2022-03-16T20:09:18.507737Z",
     "shell.execute_reply.started": "2022-03-16T20:09:18.47301Z"
    }
   },
   "outputs": [],
   "source": [
    "seeds['seed'] = seeds['Seed'].apply(lambda x: int(x[1:3]))\n",
    "seeds.head()"
   ]
  },
  {
   "cell_type": "code",
   "execution_count": null,
   "metadata": {
    "_uuid": "e2d6a4e33b062401088f472b698cc9cabff3a612",
    "execution": {
     "iopub.execute_input": "2022-03-16T20:09:18.517904Z",
     "iopub.status.busy": "2022-03-16T20:09:18.517639Z",
     "iopub.status.idle": "2022-03-16T20:09:18.530985Z",
     "shell.execute_reply": "2022-03-16T20:09:18.52984Z",
     "shell.execute_reply.started": "2022-03-16T20:09:18.517874Z"
    }
   },
   "outputs": [],
   "source": [
    "seeds_T1 = seeds[['Season','TeamID','seed']].copy()\n",
    "seeds_T2 = seeds[['Season','TeamID','seed']].copy()\n",
    "seeds_T1.columns = ['Season','T1_TeamID','T1_seed']\n",
    "seeds_T2.columns = ['Season','T2_TeamID','T2_seed']"
   ]
  },
  {
   "cell_type": "code",
   "execution_count": null,
   "metadata": {
    "_uuid": "3ce355578d9881346602388e2df329cafd1f24e7",
    "execution": {
     "iopub.execute_input": "2022-03-16T20:09:18.532112Z",
     "iopub.status.busy": "2022-03-16T20:09:18.531842Z",
     "iopub.status.idle": "2022-03-16T20:09:18.549939Z",
     "shell.execute_reply": "2022-03-16T20:09:18.549042Z",
     "shell.execute_reply.started": "2022-03-16T20:09:18.532076Z"
    }
   },
   "outputs": [],
   "source": [
    "tourney_data = pd.merge(tourney_data, seeds_T1, on = ['Season', 'T1_TeamID'], how = 'left')\n",
    "tourney_data = pd.merge(tourney_data, seeds_T2, on = ['Season', 'T2_TeamID'], how = 'left')\n",
    "#Optional but not relevant\n",
    "tourney_data[\"Seed_diff\"] = tourney_data[\"T1_seed\"] - tourney_data[\"T2_seed\"]"
   ]
  },
  {
   "cell_type": "markdown",
   "metadata": {},
   "source": [
    "Let's add the massey ordinals to this thing! "
   ]
  },
  {
   "cell_type": "markdown",
   "metadata": {},
   "source": [
    "# What are Massey Ordinals?"
   ]
  },
  {
   "cell_type": "code",
   "execution_count": null,
   "metadata": {
    "execution": {
     "iopub.execute_input": "2022-03-16T20:09:18.55137Z",
     "iopub.status.busy": "2022-03-16T20:09:18.551038Z",
     "iopub.status.idle": "2022-03-16T20:09:21.561422Z",
     "shell.execute_reply": "2022-03-16T20:09:21.560662Z",
     "shell.execute_reply.started": "2022-03-16T20:09:18.551333Z"
    }
   },
   "outputs": [],
   "source": [
    "import pandas as pd\n",
    "massey = pd.read_csv('../input/mens-march-mania-2022/MDataFiles_Stage2/MMasseyOrdinals_thruDay128.csv')"
   ]
  },
  {
   "cell_type": "markdown",
   "metadata": {},
   "source": [
    "# change to 133"
   ]
  },
  {
   "cell_type": "code",
   "execution_count": null,
   "metadata": {
    "execution": {
     "iopub.execute_input": "2022-03-16T20:09:21.562945Z",
     "iopub.status.busy": "2022-03-16T20:09:21.562597Z",
     "iopub.status.idle": "2022-03-16T20:09:21.609989Z",
     "shell.execute_reply": "2022-03-16T20:09:21.609121Z",
     "shell.execute_reply.started": "2022-03-16T20:09:21.562917Z"
    }
   },
   "outputs": [],
   "source": [
    "# RANKINGS AVAILABLE\n",
    "massey[massey.RankingDayNum == 128].SystemName.unique() "
   ]
  },
  {
   "cell_type": "markdown",
   "metadata": {},
   "source": [
    "Also add POM ranks, gagarin, and many more."
   ]
  },
  {
   "cell_type": "markdown",
   "metadata": {},
   "source": [
    "# This includes POM ranks?"
   ]
  },
  {
   "cell_type": "code",
   "execution_count": null,
   "metadata": {
    "execution": {
     "iopub.execute_input": "2022-03-16T20:09:21.611407Z",
     "iopub.status.busy": "2022-03-16T20:09:21.611201Z",
     "iopub.status.idle": "2022-03-16T20:09:30.445571Z",
     "shell.execute_reply": "2022-03-16T20:09:30.44488Z",
     "shell.execute_reply.started": "2022-03-16T20:09:21.611381Z"
    }
   },
   "outputs": [],
   "source": [
    "bagofRanks = dict()\n",
    "#oldtoconsider = ['WLK']\n",
    "trafalgars = ['WLK', 'SAG', 'POM', 'COL', 'DOL', 'MOR', 'RTH', 'WOL', 'ATP', 'EMK', 'DWH', 'AP']\n",
    "\n",
    "for traf in trafalgars:\n",
    "    bagofRanks[traf] = massey[(massey['SystemName']==traf) & (massey['RankingDayNum']==128)]\n",
    "    traf_T1 = bagofRanks[traf][['Season','TeamID','OrdinalRank']].copy()\n",
    "    traf_T2 = bagofRanks[traf][['Season','TeamID','OrdinalRank']].copy()\n",
    "    traf_T1.columns = ['Season','T1_TeamID','T1_OR_' + traf]\n",
    "    traf_T2.columns = ['Season','T2_TeamID','T2_OR_' + traf]\n",
    "    tourney_data = pd.merge(tourney_data, traf_T1, on = ['Season', 'T1_TeamID'], how = 'left')\n",
    "    tourney_data = pd.merge(tourney_data, traf_T2, on = ['Season', 'T2_TeamID'], how = 'left')\n",
    "    tourney_data[traf + \"_diff\"] = tourney_data[\"T1_OR_\" + traf] - tourney_data[\"T2_OR_\" + traf]\n",
    "    tourney_data.drop([\"T2_OR_\" + traf], axis = 1, inplace = True)"
   ]
  },
  {
   "cell_type": "markdown",
   "metadata": {
    "_uuid": "c2ba59b62b09fc5b5514a2cca4ca5408e9a2b71a"
   },
   "source": [
    "# Time to build some models!"
   ]
  },
  {
   "cell_type": "markdown",
   "metadata": {},
   "source": [
    "# Based on score to predict probability?"
   ]
  },
  {
   "cell_type": "code",
   "execution_count": null,
   "metadata": {
    "_uuid": "9981fb89482e120adc3c014b1607c160383081f8",
    "execution": {
     "iopub.execute_input": "2022-03-16T20:09:30.447451Z",
     "iopub.status.busy": "2022-03-16T20:09:30.446937Z",
     "iopub.status.idle": "2022-03-16T20:09:30.461613Z",
     "shell.execute_reply": "2022-03-16T20:09:30.460429Z",
     "shell.execute_reply.started": "2022-03-16T20:09:30.447406Z"
    }
   },
   "outputs": [],
   "source": [
    "# The descriptive feature is the score, not the winner\n",
    "y = tourney_data['T1_Score'] - tourney_data['T2_Score']\n",
    "y.describe()"
   ]
  },
  {
   "cell_type": "markdown",
   "metadata": {},
   "source": [
    "# Which features to drop?"
   ]
  },
  {
   "cell_type": "code",
   "execution_count": null,
   "metadata": {
    "execution": {
     "iopub.execute_input": "2022-03-16T20:09:30.46372Z",
     "iopub.status.busy": "2022-03-16T20:09:30.463305Z",
     "iopub.status.idle": "2022-03-16T20:09:30.478742Z",
     "shell.execute_reply": "2022-03-16T20:09:30.477707Z",
     "shell.execute_reply.started": "2022-03-16T20:09:30.463667Z"
    }
   },
   "outputs": [],
   "source": [
    "# Last chance to drop a couple of features:\n",
    "tourney_data.drop(['T1_OR_POM', 'T1_OR_RTH', 'T1_OR_WLK', 'T1_OR_COL', 'T1_OR_WOL', 'T1_OR_MOR'], axis = 1, inplace = True)\n",
    "\n",
    "# Drop own efficiency and OR - Curiously the opponent efficiency IS important. - Because we effectively damage it?\n",
    "tourney_data.drop(['T1_EFFGmean', 'T2_EFFGmean', 'T1_ORmean', 'T2_ORmean'], axis = 1, inplace = True)\n",
    "\n",
    "# This opponent data just seems to always be insignificant\n",
    "tourney_data.drop(['T1_opponent_Stlmean', 'T2_opponent_Stlmean', 'T1_opponent_Astmean', 'T2_opponent_Astmean', 'T1_opponent_Scoremean', 'T2_opponent_Scoremean', 'T1_opponent_FGMmean', 'T2_opponent_FGMmean'], axis = 1, inplace = True)\n",
    "features = tourney_data.columns[6:]\n",
    "\n",
    "# Drop the next ones from the features but not from the dataframe\n",
    "features.drop(['T2_seed'])\n",
    "len(features)\n"
   ]
  },
  {
   "cell_type": "code",
   "execution_count": null,
   "metadata": {
    "_uuid": "a0632be8ffefd40903c86e266a3848ef39d3571a",
    "execution": {
     "iopub.execute_input": "2022-03-16T20:09:30.480599Z",
     "iopub.status.busy": "2022-03-16T20:09:30.480241Z",
     "iopub.status.idle": "2022-03-16T20:09:30.562097Z",
     "shell.execute_reply": "2022-03-16T20:09:30.561116Z",
     "shell.execute_reply.started": "2022-03-16T20:09:30.480561Z"
    }
   },
   "outputs": [],
   "source": [
    "X = tourney_data[features].values\n",
    "dtrain = xgb.DMatrix(X, label = y)"
   ]
  },
  {
   "cell_type": "markdown",
   "metadata": {},
   "source": [
    "Here's just a feature importance idea that I didn't like"
   ]
  },
  {
   "cell_type": "code",
   "execution_count": null,
   "metadata": {
    "execution": {
     "iopub.execute_input": "2022-03-16T20:09:30.564063Z",
     "iopub.status.busy": "2022-03-16T20:09:30.56361Z",
     "iopub.status.idle": "2022-03-16T20:09:30.570155Z",
     "shell.execute_reply": "2022-03-16T20:09:30.56938Z",
     "shell.execute_reply.started": "2022-03-16T20:09:30.564007Z"
    }
   },
   "outputs": [],
   "source": [
    "# #Run the feature experiment to see their importance\n",
    "# from sklearn.model_selection import train_test_split \n",
    "# from sklearn.ensemble import RandomForestClassifier\n",
    "# X = tourney_data[features] \n",
    "# X['random_1'] = np.random.normal(0.0, 1.0, X.shape[0]) \n",
    "# X['random_2'] = np.random.normal(0.0, 1.0, X.shape[0]) \n",
    "# X['random_3'] = np.random.normal(0.0, 1.0, X.shape[0]) \n",
    "# def imp_df(column_names, importances):\n",
    "#     df = pd.DataFrame({'feature':column_names, 'feature_importance': importances}).sort_values('feature_importance', ascending = False).reset_index(drop = True)\n",
    "#     return(df)\n",
    "\n",
    "# myfeatures = dict() \n",
    "# for f in list(features) + ['random_1', 'random_2', 'random_3']: \n",
    "#     myfeatures[f] = list()\n",
    "    \n",
    "# for md in range(5,9): \n",
    "#     for n_estimators in [50, 55, 65, 75, 100]: \n",
    "#         for rs in range(6): \n",
    "#             clf = RandomForestClassifier(max_depth=md,n_estimators=n_estimators, random_state=rs) \n",
    "#             clf.fit(X, y) \n",
    "#             perm = PermutationImportance(clf, cv = None, refit = False, n_iter = 10).fit(X, y) \n",
    "#             perm_imp_eli5 = imp_df(X.columns, perm.feature_importances_) \n",
    "#             for c, f in enumerate([i for i in perm_imp_eli5['feature']]): \n",
    "#                 myfeatures[f].append(c) \n",
    "#             print('where is:', md, n_estimators, rs) \n",
    "#             print([i for i in perm_imp_eli5['feature']])\n",
    "                    \n",
    "# for f in list(features) + ['random_1', 'random_2', 'random_3']: \n",
    "#     print(f, myfeatures[f], max(myfeatures[f]), np.mean(myfeatures[f]), min(myfeatures[f]))"
   ]
  },
  {
   "cell_type": "markdown",
   "metadata": {},
   "source": [
    "# Loss function\n",
    "\n",
    "This is the objective loss function provided to xgboost. This was created by raddar but there's not really much to it. Notice that it's smooth and convex and that's all I care about."
   ]
  },
  {
   "cell_type": "code",
   "execution_count": null,
   "metadata": {
    "_uuid": "1816ebbcb0c348919e7ceeb0fd6509e8601ad567",
    "execution": {
     "iopub.execute_input": "2022-03-16T20:09:30.572351Z",
     "iopub.status.busy": "2022-03-16T20:09:30.571742Z",
     "iopub.status.idle": "2022-03-16T20:09:30.587563Z",
     "shell.execute_reply": "2022-03-16T20:09:30.586401Z",
     "shell.execute_reply.started": "2022-03-16T20:09:30.572305Z"
    }
   },
   "outputs": [],
   "source": [
    "def cauchyobj(preds, dtrain):\n",
    "    labels = dtrain.get_label()\n",
    "    c = 5000 \n",
    "    x =  preds-labels    \n",
    "    grad = x / (x**2/c**2+1)\n",
    "    hess = -c**2*(x**2-c**2)/(x**2+c**2)**2\n",
    "    return grad, hess"
   ]
  },
  {
   "cell_type": "code",
   "execution_count": null,
   "metadata": {
    "_uuid": "7b726f9fa289643e02c5b4eb837443d83f00a831",
    "execution": {
     "iopub.execute_input": "2022-03-16T20:09:30.594487Z",
     "iopub.status.busy": "2022-03-16T20:09:30.593843Z",
     "iopub.status.idle": "2022-03-16T20:09:30.603728Z",
     "shell.execute_reply": "2022-03-16T20:09:30.602584Z",
     "shell.execute_reply.started": "2022-03-16T20:09:30.594441Z"
    },
    "scrolled": true
   },
   "outputs": [],
   "source": [
    "param = {} \n",
    "#param['objective'] = 'reg:linear'\n",
    "param['eval_metric'] =  'mae'\n",
    "param['booster'] = 'gbtree'\n",
    "param['eta'] = 0.02 #recommend change to ~0.02 for final run. Higher when debugging.\n",
    "param['subsample'] = 0.35\n",
    "param['colsample_bytree'] = 0.7\n",
    "param['num_parallel_tree'] = 10 #recommend 10. Write 3 for debugging.\n",
    "param['min_child_weight'] = 40\n",
    "param['gamma'] = 10\n",
    "param['max_depth'] =  3\n",
    "param['silent'] = 1\n",
    "\n",
    "print(param)"
   ]
  },
  {
   "cell_type": "markdown",
   "metadata": {},
   "source": [
    "# Actual Model Training"
   ]
  },
  {
   "cell_type": "code",
   "execution_count": null,
   "metadata": {
    "_uuid": "ac7c1d166298eeb3c06d884ecb7874a5ef618d27",
    "execution": {
     "iopub.execute_input": "2022-03-16T20:09:30.605945Z",
     "iopub.status.busy": "2022-03-16T20:09:30.605407Z",
     "iopub.status.idle": "2022-03-16T20:21:59.259367Z",
     "shell.execute_reply": "2022-03-16T20:21:59.258659Z",
     "shell.execute_reply.started": "2022-03-16T20:09:30.605901Z"
    }
   },
   "outputs": [],
   "source": [
    "xgb_cv = []\n",
    "repeat_cv = 10 # recommend 10 for final submission. Smaller for debugging.\n",
    "\n",
    "for i in range(repeat_cv): \n",
    "    print(f\"Fold repeater {i}\")\n",
    "    xgb_cv.append(\n",
    "        xgb.cv(\n",
    "          params = param,\n",
    "          dtrain = dtrain,\n",
    "          obj = cauchyobj,\n",
    "          num_boost_round = 3000,\n",
    "          folds = KFold(n_splits = 5, shuffle = True, random_state = i),\n",
    "          early_stopping_rounds = 25,\n",
    "          verbose_eval = 50\n",
    "        )\n",
    "    )"
   ]
  },
  {
   "cell_type": "code",
   "execution_count": null,
   "metadata": {
    "_uuid": "e76e9a3c2e209243950fcb0b0ec28cc1c729b40f",
    "execution": {
     "iopub.execute_input": "2022-03-16T20:21:59.261657Z",
     "iopub.status.busy": "2022-03-16T20:21:59.260628Z",
     "iopub.status.idle": "2022-03-16T20:21:59.272798Z",
     "shell.execute_reply": "2022-03-16T20:21:59.272074Z",
     "shell.execute_reply.started": "2022-03-16T20:21:59.261611Z"
    }
   },
   "outputs": [],
   "source": [
    "iteration_counts = [np.argmin(x['test-mae-mean'].values) for x in xgb_cv]\n",
    "val_mae = [np.min(x['test-mae-mean'].values) for x in xgb_cv]\n",
    "iteration_counts, val_mae"
   ]
  },
  {
   "cell_type": "code",
   "execution_count": null,
   "metadata": {
    "_uuid": "005e51b486d6853ede2091bf7dd36bfecc340542",
    "execution": {
     "iopub.execute_input": "2022-03-16T20:21:59.275207Z",
     "iopub.status.busy": "2022-03-16T20:21:59.274489Z",
     "iopub.status.idle": "2022-03-16T20:29:46.772759Z",
     "shell.execute_reply": "2022-03-16T20:29:46.771942Z",
     "shell.execute_reply.started": "2022-03-16T20:21:59.275168Z"
    }
   },
   "outputs": [],
   "source": [
    "#This is to get out-of-fold predictions\n",
    "oof_preds = []\n",
    "for i in range(repeat_cv):\n",
    "    print(f\"Fold repeater {i}\")\n",
    "    preds = y.copy()\n",
    "    kfold = KFold(n_splits = 5, shuffle = True, random_state = i)    \n",
    "    for train_index, val_index in kfold.split(X,y):\n",
    "        dtrain_i = xgb.DMatrix(X[train_index], label = y[train_index])\n",
    "        dval_i = xgb.DMatrix(X[val_index], label = y[val_index])  \n",
    "        model = xgb.train(\n",
    "              params = param,\n",
    "              dtrain = dtrain_i,\n",
    "              num_boost_round = iteration_counts[i],\n",
    "              verbose_eval = 50\n",
    "        )\n",
    "        preds[val_index] = model.predict(dval_i)\n",
    "    oof_preds.append(np.clip(preds,-19,19))"
   ]
  },
  {
   "cell_type": "code",
   "execution_count": null,
   "metadata": {
    "_uuid": "27281822aa36656d962d855d1791914b8d51a0e6",
    "execution": {
     "iopub.execute_input": "2022-03-16T20:29:46.780799Z",
     "iopub.status.busy": "2022-03-16T20:29:46.773856Z",
     "iopub.status.idle": "2022-03-16T20:29:47.021724Z",
     "shell.execute_reply": "2022-03-16T20:29:47.020611Z",
     "shell.execute_reply.started": "2022-03-16T20:29:46.780753Z"
    }
   },
   "outputs": [],
   "source": [
    "plot_df = pd.DataFrame({\"pred\":oof_preds[0], \"label\":np.where(y>0,1,0)})\n",
    "plot_df[\"pred_int\"] = plot_df[\"pred\"].astype(int)\n",
    "plot_df = plot_df.groupby('pred_int')['label'].mean().reset_index(name='average_win_pct')\n",
    "\n",
    "plt.figure()\n",
    "plt.plot(plot_df.pred_int,plot_df.average_win_pct)"
   ]
  },
  {
   "cell_type": "markdown",
   "metadata": {},
   "source": [
    "Fit some beautiful splines to it."
   ]
  },
  {
   "cell_type": "code",
   "execution_count": null,
   "metadata": {
    "_uuid": "80131eb61294dd14c9a4b84f59b54f173d37a605",
    "execution": {
     "iopub.execute_input": "2022-03-16T20:29:47.023739Z",
     "iopub.status.busy": "2022-03-16T20:29:47.023209Z",
     "iopub.status.idle": "2022-03-16T20:29:47.096374Z",
     "shell.execute_reply": "2022-03-16T20:29:47.095554Z",
     "shell.execute_reply.started": "2022-03-16T20:29:47.02369Z"
    }
   },
   "outputs": [],
   "source": [
    "spline_model = []\n",
    "\n",
    "for i in range(repeat_cv):\n",
    "    dat = list(zip(oof_preds[i],np.where(y>0,1,0)))\n",
    "    dat = sorted(dat, key = lambda x: x[0])\n",
    "    datdict = {}\n",
    "    for k in range(len(dat)):\n",
    "        datdict[dat[k][0]]= dat[k][1]\n",
    "        \n",
    "    spline_model.append(UnivariateSpline(list(datdict.keys()), list(datdict.values())))\n",
    "    spline_fit = spline_model[i](oof_preds[i])\n",
    "    \n",
    "    print(f\"logloss of cvsplit {i}: {log_loss(np.where(y>0,1,0),spline_fit)}\") "
   ]
  },
  {
   "cell_type": "code",
   "execution_count": null,
   "metadata": {
    "_uuid": "5c5313989cfa1fb2cfa57e4ddb1e2a22ab290423",
    "execution": {
     "iopub.execute_input": "2022-03-16T20:29:47.097663Z",
     "iopub.status.busy": "2022-03-16T20:29:47.097347Z",
     "iopub.status.idle": "2022-03-16T20:29:47.333556Z",
     "shell.execute_reply": "2022-03-16T20:29:47.332629Z",
     "shell.execute_reply.started": "2022-03-16T20:29:47.097636Z"
    }
   },
   "outputs": [],
   "source": [
    "plot_df = pd.DataFrame({\"pred\":oof_preds[0], \"label\":np.where(y>0,1,0), \"spline\":spline_model[0](oof_preds[0])})\n",
    "plot_df[\"pred_int\"] = (plot_df[\"pred\"]).astype(int)\n",
    "plot_df = plot_df.groupby('pred_int')['spline','label'].mean().reset_index()\n",
    "\n",
    "plt.figure()\n",
    "plt.plot(plot_df.pred_int,plot_df.spline)\n",
    "plt.plot(plot_df.pred_int,plot_df.label)"
   ]
  },
  {
   "cell_type": "code",
   "execution_count": null,
   "metadata": {
    "_uuid": "2b06344b5c968cfcd5c5840db36db184de311f96",
    "execution": {
     "iopub.execute_input": "2022-03-16T20:29:47.33504Z",
     "iopub.status.busy": "2022-03-16T20:29:47.334776Z",
     "iopub.status.idle": "2022-03-16T20:29:47.407617Z",
     "shell.execute_reply": "2022-03-16T20:29:47.406682Z",
     "shell.execute_reply.started": "2022-03-16T20:29:47.334996Z"
    }
   },
   "outputs": [],
   "source": [
    "spline_model = []\n",
    "\n",
    "for i in range(repeat_cv):\n",
    "    dat = list(zip(oof_preds[i],np.where(y>0,1,0)))\n",
    "    dat = sorted(dat, key = lambda x: x[0])\n",
    "    datdict = {}\n",
    "    for k in range(len(dat)):\n",
    "        datdict[dat[k][0]]= dat[k][1]\n",
    "    spline_model.append(UnivariateSpline(list(datdict.keys()), list(datdict.values())))\n",
    "    spline_fit = spline_model[i](oof_preds[i])\n",
    "    spline_fit = np.clip(spline_fit,0.025,0.975)\n",
    "    \n",
    "    print(f\"adjusted logloss of cvsplit {i}: {log_loss(np.where(y>0,1,0),spline_fit)}\") "
   ]
  },
  {
   "cell_type": "code",
   "execution_count": null,
   "metadata": {
    "_uuid": "701351545f58a26cbd8afe55196df383f570517d",
    "execution": {
     "iopub.execute_input": "2022-03-16T20:29:47.409041Z",
     "iopub.status.busy": "2022-03-16T20:29:47.408788Z",
     "iopub.status.idle": "2022-03-16T20:29:47.490945Z",
     "shell.execute_reply": "2022-03-16T20:29:47.490166Z",
     "shell.execute_reply.started": "2022-03-16T20:29:47.408994Z"
    }
   },
   "outputs": [],
   "source": [
    "spline_model = []\n",
    "\n",
    "for i in range(repeat_cv):\n",
    "    dat = list(zip(oof_preds[i],np.where(y>0,1,0)))\n",
    "    dat = sorted(dat, key = lambda x: x[0])\n",
    "    datdict = {}\n",
    "    for k in range(len(dat)):\n",
    "        datdict[dat[k][0]]= dat[k][1]\n",
    "    spline_model.append(UnivariateSpline(list(datdict.keys()), list(datdict.values())))\n",
    "    spline_fit = spline_model[i](oof_preds[i])\n",
    "    spline_fit = np.clip(spline_fit,0.02,0.98)\n",
    "    spline_fit[(tourney_data.T1_seed==1) & (tourney_data.T2_seed==16)] = 1.0\n",
    "    spline_fit[(tourney_data.T1_seed==16) & (tourney_data.T2_seed==1)] = 0.0\n",
    "    \n",
    "    print(f\"adjusted logloss of cvsplit {i}: {log_loss(np.where(y>0,1,0),spline_fit)}\") "
   ]
  },
  {
   "cell_type": "markdown",
   "metadata": {},
   "source": [
    "Let's just check some upsets for fun (and to understand what's going on). Can you risk making some crazy bets? - Explained in the video. Again, the idea is that low seeds rarely lose, so you may want to override some values."
   ]
  },
  {
   "cell_type": "markdown",
   "metadata": {},
   "source": [
    "# NCAA upsets are few, and this year, seed 1s much stronger "
   ]
  },
  {
   "cell_type": "code",
   "execution_count": null,
   "metadata": {
    "_uuid": "575ae5e165fcde8fecec21f0df0d27fd8fa0726a",
    "execution": {
     "iopub.execute_input": "2022-03-16T20:29:47.49319Z",
     "iopub.status.busy": "2022-03-16T20:29:47.492242Z",
     "iopub.status.idle": "2022-03-16T20:29:47.606994Z",
     "shell.execute_reply": "2022-03-16T20:29:47.606111Z",
     "shell.execute_reply.started": "2022-03-16T20:29:47.493146Z"
    }
   },
   "outputs": [],
   "source": [
    "#looking for upsets\n",
    "pd.concat(\n",
    "    [tourney_data[(tourney_data.T1_seed==1) & (tourney_data.T2_seed==16) & (tourney_data.T1_Score < tourney_data.T2_Score)],\n",
    "     tourney_data[(tourney_data.T1_seed==2) & (tourney_data.T2_seed==15) & (tourney_data.T1_Score < tourney_data.T2_Score)],\n",
    "     tourney_data[(tourney_data.T1_seed==16) & (tourney_data.T2_seed==1) & (tourney_data.T1_Score > tourney_data.T2_Score)],\n",
    "     tourney_data[(tourney_data.T1_seed==15) & (tourney_data.T2_seed==2) & (tourney_data.T1_Score > tourney_data.T2_Score)]]\n",
    ")   \n",
    "\n",
    "#https://en.wikipedia.org/wiki/NCAA_Division_I_Women%27s_Basketball_Tournament_upsets"
   ]
  },
  {
   "cell_type": "code",
   "execution_count": null,
   "metadata": {
    "_uuid": "3aad32289e9d47005b85793d952555104b0e45ad",
    "execution": {
     "iopub.execute_input": "2022-03-16T20:29:47.609127Z",
     "iopub.status.busy": "2022-03-16T20:29:47.60878Z",
     "iopub.status.idle": "2022-03-16T20:29:47.729514Z",
     "shell.execute_reply": "2022-03-16T20:29:47.728711Z",
     "shell.execute_reply.started": "2022-03-16T20:29:47.609082Z"
    }
   },
   "outputs": [],
   "source": [
    "spline_model = []\n",
    "\n",
    "for i in range(repeat_cv):\n",
    "    dat = list(zip(oof_preds[i],np.where(y>0,1,0)))\n",
    "    dat = sorted(dat, key = lambda x: x[0])\n",
    "    datdict = {}\n",
    "    for k in range(len(dat)):\n",
    "        datdict[dat[k][0]]= dat[k][1]\n",
    "    spline_model.append(UnivariateSpline(list(datdict.keys()), list(datdict.values())))\n",
    "    spline_fit = spline_model[i](oof_preds[i])\n",
    "    spline_fit = np.clip(spline_fit,0.025,0.975)\n",
    "    spline_fit[(tourney_data.T1_seed==1) & (tourney_data.T2_seed==16) & (tourney_data.T1_Score > tourney_data.T2_Score)] = 1.0\n",
    "    spline_fit[(tourney_data.T1_seed==2) & (tourney_data.T2_seed==15) & (tourney_data.T1_Score > tourney_data.T2_Score)] = 1.0\n",
    "    spline_fit[(tourney_data.T1_seed==3) & (tourney_data.T2_seed==14) & (tourney_data.T1_Score > tourney_data.T2_Score)] = 1.0\n",
    "    spline_fit[(tourney_data.T1_seed==16) & (tourney_data.T2_seed==1) & (tourney_data.T1_Score < tourney_data.T2_Score)] = 0.0\n",
    "    spline_fit[(tourney_data.T1_seed==15) & (tourney_data.T2_seed==2) & (tourney_data.T1_Score < tourney_data.T2_Score)] = 0.0\n",
    "    spline_fit[(tourney_data.T1_seed==14) & (tourney_data.T2_seed==3) & (tourney_data.T1_Score < tourney_data.T2_Score)] = 0.0\n",
    "    \n",
    "    print(f\"adjusted logloss of cvsplit {i}: {log_loss(np.where(y>0,1,0),spline_fit)}\") "
   ]
  },
  {
   "cell_type": "code",
   "execution_count": null,
   "metadata": {
    "_uuid": "afc43d2f93dac2fe257e670f952c02e74a0b0bdb",
    "execution": {
     "iopub.execute_input": "2022-03-16T20:29:47.73125Z",
     "iopub.status.busy": "2022-03-16T20:29:47.730913Z",
     "iopub.status.idle": "2022-03-16T20:29:47.872189Z",
     "shell.execute_reply": "2022-03-16T20:29:47.871487Z",
     "shell.execute_reply.started": "2022-03-16T20:29:47.731216Z"
    },
    "scrolled": true
   },
   "outputs": [],
   "source": [
    "val_cv = []\n",
    "spline_model = []\n",
    "\n",
    "for i in range(repeat_cv):\n",
    "    dat = list(zip(oof_preds[i],np.where(y>0,1,0)))\n",
    "    dat = sorted(dat, key = lambda x: x[0])\n",
    "    datdict = {}\n",
    "    for k in range(len(dat)):\n",
    "        datdict[dat[k][0]]= dat[k][1]\n",
    "    spline_model.append(UnivariateSpline(list(datdict.keys()), list(datdict.values())))\n",
    "    spline_fit = spline_model[i](oof_preds[i])\n",
    "    spline_fit = np.clip(spline_fit,0.02,0.98)\n",
    "    spline_fit[(tourney_data.T1_seed==1) & (tourney_data.T2_seed==16) & (tourney_data.T1_Score > tourney_data.T2_Score)] = 1.0\n",
    "    spline_fit[(tourney_data.T1_seed==16) & (tourney_data.T2_seed==1) & (tourney_data.T1_Score < tourney_data.T2_Score)] = 0.0\n",
    "    spline_fit[(tourney_data.T1_seed==2) & (tourney_data.T2_seed==15) & (tourney_data.T1_Score > tourney_data.T2_Score)] = 1.0\n",
    "    spline_fit[(tourney_data.T1_seed==15) & (tourney_data.T2_seed==2) & (tourney_data.T1_Score < tourney_data.T2_Score)] = 0.0\n",
    "    \n",
    "    val_cv.append(pd.DataFrame({\"y\":np.where(y>0,1,0), \"pred\":spline_fit, \"season\":tourney_data.Season}))\n",
    "    print(f\"adjusted logloss of cvsplit {i}: {log_loss(np.where(y>0,1,0),spline_fit)}\") \n",
    "    \n",
    "val_cv = pd.concat(val_cv)\n",
    "val_cv.groupby('season').apply(lambda x: log_loss(x.y, x.pred))"
   ]
  },
  {
   "cell_type": "markdown",
   "metadata": {
    "_uuid": "0c06e55e0ed14fd6c3c625e01aca69ae873d74c3"
   },
   "source": [
    "# Submission time!"
   ]
  },
  {
   "cell_type": "code",
   "execution_count": null,
   "metadata": {
    "_uuid": "840525feee6f9406554c9b5170a39b815ce5ba22",
    "execution": {
     "iopub.execute_input": "2022-03-16T20:29:47.87358Z",
     "iopub.status.busy": "2022-03-16T20:29:47.873245Z",
     "iopub.status.idle": "2022-03-16T20:29:47.911853Z",
     "shell.execute_reply": "2022-03-16T20:29:47.911259Z",
     "shell.execute_reply.started": "2022-03-16T20:29:47.873553Z"
    }
   },
   "outputs": [],
   "source": [
    "sub = pd.read_csv('../input/mens-march-mania-2022/MDataFiles_Stage2/MSampleSubmissionStage2.csv')\n",
    "sub.head()"
   ]
  },
  {
   "cell_type": "code",
   "execution_count": null,
   "metadata": {
    "_uuid": "f2fb2bbe182ac6d6da98cd5c0086a3089988a62a",
    "execution": {
     "iopub.execute_input": "2022-03-16T20:29:47.913411Z",
     "iopub.status.busy": "2022-03-16T20:29:47.912996Z",
     "iopub.status.idle": "2022-03-16T20:29:47.928769Z",
     "shell.execute_reply": "2022-03-16T20:29:47.927721Z",
     "shell.execute_reply.started": "2022-03-16T20:29:47.913374Z"
    }
   },
   "outputs": [],
   "source": [
    "sub[\"Season\"] = sub[\"ID\"].apply(lambda x: x[0:4]).astype(int)\n",
    "sub[\"T1_TeamID\"] = sub[\"ID\"].apply(lambda x: x[5:9]).astype(int)\n",
    "sub[\"T2_TeamID\"] = sub[\"ID\"].apply(lambda x: x[10:14]).astype(int)\n",
    "sub.shape"
   ]
  },
  {
   "cell_type": "code",
   "execution_count": null,
   "metadata": {
    "_uuid": "861d6c4c12a094804f9cf0ea2c14c0c5136d164c",
    "execution": {
     "iopub.execute_input": "2022-03-16T20:29:47.930549Z",
     "iopub.status.busy": "2022-03-16T20:29:47.930043Z",
     "iopub.status.idle": "2022-03-16T20:29:48.153908Z",
     "shell.execute_reply": "2022-03-16T20:29:48.153092Z",
     "shell.execute_reply.started": "2022-03-16T20:29:47.930504Z"
    }
   },
   "outputs": [],
   "source": [
    "sub = pd.merge(sub, season_statistics_T1, on = ['Season', 'T1_TeamID'])\n",
    "sub = pd.merge(sub, season_statistics_T2, on = ['Season', 'T2_TeamID'])\n",
    "print(sub.shape)\n",
    "sub = pd.merge(sub, glm_quality_T1, on = ['Season', 'T1_TeamID'], how = 'left') # This is because some teams didn't face off in the regular season\n",
    "sub = pd.merge(sub, glm_quality_T2, on = ['Season', 'T2_TeamID'], how = 'left')\n",
    "print(sub.shape)\n",
    "sub = pd.merge(sub, seeds_T1, on = ['Season', 'T1_TeamID'])\n",
    "sub = pd.merge(sub, seeds_T2, on = ['Season', 'T2_TeamID'])\n",
    "print(sub.shape)\n",
    "#sub = pd.merge(sub, last14days_stats_T1, on = ['Season', 'T1_TeamID'])\n",
    "#sub = pd.merge(sub, last14days_stats_T2, on = ['Season', 'T2_TeamID'])\n",
    "#print(sub.shape)\n",
    "sub[\"Seed_diff\"] = sub[\"T1_seed\"] - sub[\"T2_seed\"]\n",
    "sub.shape\n",
    "for traf in trafalgars:\n",
    "    traf_T1 = bagofRanks[traf][['Season','TeamID','OrdinalRank']].copy()\n",
    "    traf_T2 = bagofRanks[traf][['Season','TeamID','OrdinalRank']].copy()\n",
    "    traf_T1.columns = ['Season','T1_TeamID','T1_OR_' + traf]\n",
    "    traf_T2.columns = ['Season','T2_TeamID','T2_OR_' + traf]\n",
    "    sub = pd.merge(sub, traf_T1, on = ['Season', 'T1_TeamID'], how = 'left')\n",
    "    sub = pd.merge(sub, traf_T2, on = ['Season', 'T2_TeamID'], how = 'left')\n",
    "    sub[traf + \"_diff\"] = sub[\"T1_OR_\" + traf] - sub[\"T2_OR_\" + traf]\n",
    "sub.shape"
   ]
  },
  {
   "cell_type": "code",
   "execution_count": null,
   "metadata": {
    "execution": {
     "iopub.execute_input": "2022-03-16T20:29:48.155358Z",
     "iopub.status.busy": "2022-03-16T20:29:48.155127Z",
     "iopub.status.idle": "2022-03-16T20:29:48.162114Z",
     "shell.execute_reply": "2022-03-16T20:29:48.16106Z",
     "shell.execute_reply.started": "2022-03-16T20:29:48.15533Z"
    }
   },
   "outputs": [],
   "source": [
    "sub.columns"
   ]
  },
  {
   "cell_type": "code",
   "execution_count": null,
   "metadata": {
    "execution": {
     "iopub.execute_input": "2022-03-16T20:29:48.16427Z",
     "iopub.status.busy": "2022-03-16T20:29:48.163458Z",
     "iopub.status.idle": "2022-03-16T20:29:48.178229Z",
     "shell.execute_reply": "2022-03-16T20:29:48.177174Z",
     "shell.execute_reply.started": "2022-03-16T20:29:48.164226Z"
    }
   },
   "outputs": [],
   "source": [
    "sub.head()\n",
    "print(sub.T2_quality.isnull().sum())\n",
    "sub['T1_quality'].fillna(0.2, inplace = True)\n",
    "sub['T2_quality'].fillna(0.2, inplace = True)\n",
    "sub.T2_quality.isnull().sum()"
   ]
  },
  {
   "cell_type": "code",
   "execution_count": null,
   "metadata": {
    "_uuid": "cb1627abe53f9db9fdb5be2e45a739e0f78ede83",
    "execution": {
     "iopub.execute_input": "2022-03-16T20:29:48.180827Z",
     "iopub.status.busy": "2022-03-16T20:29:48.180137Z",
     "iopub.status.idle": "2022-03-16T20:29:48.193575Z",
     "shell.execute_reply": "2022-03-16T20:29:48.192808Z",
     "shell.execute_reply.started": "2022-03-16T20:29:48.18078Z"
    }
   },
   "outputs": [],
   "source": [
    "Xsub = sub[features].values\n",
    "dtest = xgb.DMatrix(Xsub)"
   ]
  },
  {
   "cell_type": "markdown",
   "metadata": {},
   "source": [
    "# Actual Inference"
   ]
  },
  {
   "cell_type": "code",
   "execution_count": null,
   "metadata": {
    "_uuid": "a700a993c601d9692f2374f11c8eadb234979086",
    "execution": {
     "iopub.execute_input": "2022-03-16T20:29:48.195435Z",
     "iopub.status.busy": "2022-03-16T20:29:48.19494Z",
     "iopub.status.idle": "2022-03-16T20:31:44.556073Z",
     "shell.execute_reply": "2022-03-16T20:31:44.555113Z",
     "shell.execute_reply.started": "2022-03-16T20:29:48.195394Z"
    }
   },
   "outputs": [],
   "source": [
    "sub_models = []\n",
    "for i in range(repeat_cv):\n",
    "    print(f\"Fold repeater {i}\")\n",
    "    sub_models.append(\n",
    "        xgb.train(\n",
    "          params = param,\n",
    "          dtrain = dtrain,\n",
    "          num_boost_round = int(iteration_counts[i] * 1.05),\n",
    "          verbose_eval = 50\n",
    "        )\n",
    "    )"
   ]
  },
  {
   "cell_type": "code",
   "execution_count": null,
   "metadata": {
    "_uuid": "01757a38a0ad222dec31bf062ceee7cfb61a6b16",
    "execution": {
     "iopub.execute_input": "2022-03-16T20:31:44.557956Z",
     "iopub.status.busy": "2022-03-16T20:31:44.557476Z",
     "iopub.status.idle": "2022-03-16T20:31:45.187716Z",
     "shell.execute_reply": "2022-03-16T20:31:45.186808Z",
     "shell.execute_reply.started": "2022-03-16T20:31:44.557915Z"
    }
   },
   "outputs": [],
   "source": [
    "sub_preds = []\n",
    "for i in range(repeat_cv):\n",
    "    sub_preds.append(np.clip(spline_model[i](np.clip(sub_models[i].predict(dtest),-30,30)),0.025,0.975))\n",
    "    \n",
    "sub[\"Pred\"] = pd.DataFrame(sub_preds).mean(axis=0)\n",
    "#sub[\"Pred\"] /= (2*sub[\"Pred\"].mean())\n",
    "sub.loc[sub['Pred'] > 0.5, \"Pred\"] *= 1.00 # This is calibrated by trial and error.\n",
    "sub.loc[sub['Pred'] < 0.5, \"Pred\"] /= 1.00\n",
    "print(sub['Pred'].mean())\n",
    "sub[\"Pred\"] = np.clip(sub[\"Pred\"], 0.03, 0.97)\n"
   ]
  },
  {
   "cell_type": "markdown",
   "metadata": {},
   "source": [
    "Are you feeling lucky? Try to override some results."
   ]
  },
  {
   "cell_type": "markdown",
   "metadata": {},
   "source": [
    "# Manual override for teams or seeds"
   ]
  },
  {
   "cell_type": "markdown",
   "metadata": {},
   "source": [
    "Might be based on player info"
   ]
  },
  {
   "cell_type": "code",
   "execution_count": null,
   "metadata": {
    "execution": {
     "iopub.execute_input": "2022-03-16T20:31:45.189068Z",
     "iopub.status.busy": "2022-03-16T20:31:45.188851Z",
     "iopub.status.idle": "2022-03-16T20:31:45.208722Z",
     "shell.execute_reply": "2022-03-16T20:31:45.20763Z",
     "shell.execute_reply.started": "2022-03-16T20:31:45.189041Z"
    }
   },
   "outputs": [],
   "source": [
    "#sub.loc[(sub.T1_seed==2) & (sub.T2_seed==15), 'Pred'] = 0.99\n",
    "#sub.loc[(sub.T1_seed==3) & (sub.T2_seed==14), 'Pred'] = 0.99\n",
    "#sub.loc[(sub.T1_seed==15) & (sub.T2_seed==2), 'Pred'] = 0.01\n",
    "#sub.loc[(sub.T1_seed==14) & (sub.T2_seed==3), 'Pred'] = 0.01\n",
    "#sub.loc[(sub.T1_seed==1) & (sub.T2_seed==16), 'Pred'] = 0.99\n",
    "#sub.loc[(sub.T1_seed==16) & (sub.T2_seed==1), 'Pred'] = 0.01\n",
    "sub[['ID','Pred']].to_csv(\"submission.csv\", index = None)"
   ]
  },
  {
   "cell_type": "code",
   "execution_count": null,
   "metadata": {
    "_uuid": "ce959e232dd5c58f5748e74e7a5fe0c5d2d6ef6f",
    "execution": {
     "iopub.execute_input": "2022-03-16T20:31:45.210119Z",
     "iopub.status.busy": "2022-03-16T20:31:45.209884Z",
     "iopub.status.idle": "2022-03-16T20:31:45.21433Z",
     "shell.execute_reply": "2022-03-16T20:31:45.213404Z",
     "shell.execute_reply.started": "2022-03-16T20:31:45.210091Z"
    }
   },
   "outputs": [],
   "source": [
    "#tourney_results2018 = pd.read_csv('../input/NCAA_2018_Solution_Womens.csv')\n",
    "#tourney_results2018 = tourney_results2018[tourney_results2018.Pred!=-1].reset_index(drop=True)\n",
    "#tourney_results2018.columns = ['ID', 'label']\n",
    "#tourney_results2018 = pd.merge(tourney_results2018, sub, on = 'ID')\n",
    "#log_loss(tourney_results2018.label, tourney_results2018.Pred)"
   ]
  }
 ],
 "metadata": {
  "kernelspec": {
   "display_name": "Python 3",
   "language": "python",
   "name": "python3"
  },
  "language_info": {
   "codemirror_mode": {
    "name": "ipython",
    "version": 3
   },
   "file_extension": ".py",
   "mimetype": "text/x-python",
   "name": "python",
   "nbconvert_exporter": "python",
   "pygments_lexer": "ipython3",
   "version": "3.8.10"
  }
 },
 "nbformat": 4,
 "nbformat_minor": 4
}
